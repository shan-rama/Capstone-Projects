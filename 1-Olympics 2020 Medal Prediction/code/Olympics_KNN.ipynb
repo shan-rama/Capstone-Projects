{
 "cells": [
  {
   "cell_type": "code",
   "execution_count": 3,
   "metadata": {},
   "outputs": [],
   "source": [
    "from   sklearn.neighbors       import KNeighborsRegressor\n",
    "from   sklearn.model_selection import GridSearchCV\n",
    "from   sklearn.model_selection import cross_val_score\n",
    "from   sklearn                 import metrics\n",
    "import pandas                  as     pd\n",
    "import numpy                   as     np\n",
    "import seaborn                 as     sns\n",
    "import matplotlib.pyplot       as     plt\n",
    "import warnings\n",
    "warnings.filterwarnings(\"ignore\")"
   ]
  },
  {
   "cell_type": "code",
   "execution_count": 4,
   "metadata": {},
   "outputs": [],
   "source": [
    "olympics_all = pd.read_csv(r'C:\\Users\\USER\\Desktop\\DS_python\\CP4\\CP4\\OlympicsData\\olympics_all.csv')"
   ]
  },
  {
   "cell_type": "code",
   "execution_count": 5,
   "metadata": {},
   "outputs": [
    {
     "name": "stdout",
     "output_type": "stream",
     "text": [
      "(544, 10)\n",
      "(544, 5)\n"
     ]
    }
   ],
   "source": [
    "X=olympics_all.drop(['NOC', 'country','Gold','Silver','Bronze', 'Medals','GDP_Per_Capita'],axis=1)\n",
    "y=olympics_all[['Year','Gold','Silver','Bronze', 'Medals']]\n",
    "print(X.shape)\n",
    "print(y.shape)"
   ]
  },
  {
   "cell_type": "code",
   "execution_count": 6,
   "metadata": {},
   "outputs": [
    {
     "name": "stdout",
     "output_type": "stream",
     "text": [
      "(460, 9)\n",
      "(84, 9)\n",
      "(460, 5)\n",
      "(84, 5)\n"
     ]
    }
   ],
   "source": [
    "#Splitting data \n",
    "\n",
    "X_trn = X[X['Year']<2016]\n",
    "X_tst = X[X['Year'] == 2016]\n",
    "\n",
    "y_trn = y[y['Year'] < 2016]\n",
    "y_tst =  y[y['Year'] == 2016]\n",
    "\n",
    "X_train = X_trn.drop(['Year'],axis=1)\n",
    "X_test  = X_tst.drop(['Year'],axis=1)\n",
    "print(X_train.shape)\n",
    "print(X_test.shape)\n",
    "\n",
    "y_train = y_trn\n",
    "y_test =  y_tst\n",
    "print(y_train.shape)\n",
    "print(y_test.shape)"
   ]
  },
  {
   "cell_type": "code",
   "execution_count": 34,
   "metadata": {},
   "outputs": [
    {
     "data": {
      "text/plain": [
       "KNeighborsRegressor()"
      ]
     },
     "execution_count": 34,
     "metadata": {},
     "output_type": "execute_result"
    }
   ],
   "source": [
    "# Create KNN regression objects\n",
    "knn_gold   = KNeighborsRegressor()\n",
    "knn_silver = KNeighborsRegressor()\n",
    "knn_bronze = KNeighborsRegressor()\n",
    "\n",
    "# Train the models using the training sets\n",
    "knn_gold.fit(  X_train, y_train['Gold'])\n",
    "knn_silver.fit(X_train, y_train['Silver'])\n",
    "knn_bronze.fit(X_train, y_train['Bronze'])"
   ]
  },
  {
   "cell_type": "code",
   "execution_count": 9,
   "metadata": {},
   "outputs": [],
   "source": [
    "#Testing the model\n",
    "\n",
    "y_pred_Gold    = knn_gold.predict(X_test)\n",
    "y_pred_Gold    = y_pred_Gold .astype('int64')\n",
    "y_pred_Gold    = y_pred_Gold .clip(min=0)\n",
    "\n",
    "y_pred_Silver   = knn_silver.predict(X_test)\n",
    "y_pred_Silver   = y_pred_Silver.astype('int64')\n",
    "y_pred_Silver   = y_pred_Silver.clip(min=0)\n",
    "\n",
    "\n",
    "y_pred_Bronze   = knn_bronze.predict(X_test)\n",
    "y_pred_Bronze   = y_pred_Bronze.astype('int64')\n",
    "y_pred_Bronze   = y_pred_Bronze.clip(min=0)"
   ]
  },
  {
   "cell_type": "code",
   "execution_count": 32,
   "metadata": {
    "scrolled": false
   },
   "outputs": [
    {
     "name": "stdout",
     "output_type": "stream",
     "text": [
      "Gold Accuracy: [0.19866882 0.3341077  0.29327798 0.49511195]\n",
      "Silver Accuracy: [0.24488393 0.3053733  0.53980013 0.53733057]\n",
      "Bronze Accuracy: [0.29266539 0.34167933 0.368323   0.41341877]\n",
      "\n",
      "Gold Accuracy  : 33.029  and Std Dev: 0.11\n",
      "Silver Accuracy: 40.685  and Std Dev: 0.13\n",
      "Bronze Accuracy: 35.402  and Std Dev: 0.04\n",
      "\n"
     ]
    }
   ],
   "source": [
    "#Applying k-fold cross_validation\n",
    "\n",
    "accuracy_gold = cross_val_score(estimator=knn_gold,X=X_train,y=y_train['Gold'],cv=4)\n",
    "accuracy_silver = cross_val_score(estimator=knn_silver,X=X_train,y=y_train['Silver'],cv=4)\n",
    "accuracy_bronze = cross_val_score(estimator=knn_bronze,X=X_train,y=y_train['Bronze'],cv=4)\n",
    "\n",
    "print(\"Gold Accuracy:\", accuracy_gold)\n",
    "print(\"Silver Accuracy:\",accuracy_silver)\n",
    "print(\"Bronze Accuracy:\",accuracy_bronze)\n",
    "\n",
    "print()\n",
    "print(\"Gold Accuracy  :\", (accuracy_gold.mean()*100).round(3), ' and Std Dev:',accuracy_gold.std().round(2))\n",
    "print(\"Silver Accuracy:\", (accuracy_silver.mean()*100).round(3), ' and Std Dev:',accuracy_silver.std().round(2))\n",
    "print(\"Bronze Accuracy:\", (accuracy_bronze.mean()*100).round(3), ' and Std Dev:',accuracy_bronze.std().round(2))\n",
    "print()"
   ]
  },
  {
   "cell_type": "code",
   "execution_count": 30,
   "metadata": {
    "scrolled": true
   },
   "outputs": [
    {
     "name": "stdout",
     "output_type": "stream",
     "text": [
      "Best Accuracy for Gold: 0.4185262456131717\n",
      "Best Parameters for Gold: {'n_neighbors': 9}\n",
      "Best Estimator: KNeighborsRegressor(n_neighbors=9)\n",
      "\n",
      "Best Accuracy for Silver: 0.4556837401942799\n",
      "Best Parameters for Silver: {'n_neighbors': 7}\n",
      "Best Estimator(Silver): KNeighborsRegressor(n_neighbors=7)\n",
      "\n",
      "Best Accuracy for Bronze: 0.43590060817515475\n",
      "Best Parameters for Bronze: {'n_neighbors': 10}\n",
      "Best Estimator(Bronze): KNeighborsRegressor(n_neighbors=10)\n",
      "Wall time: 12.9 s\n"
     ]
    }
   ],
   "source": [
    "%%time\n",
    "from sklearn.model_selection import GridSearchCV\n",
    "\n",
    "params = {'n_neighbors':[2,3,4,5,6,7,8,9,10,11,12,1,3,14,15,16]}\n",
    "grid = GridSearchCV(estimator=knn_gold,param_grid=params,cv=4)\n",
    "grid.fit(X_train,y_train['Gold'])\n",
    "best_accuracy  = grid.best_score_\n",
    "best_parameter = grid.best_params_\n",
    "print(\"Best Accuracy for Gold:\",best_accuracy)\n",
    "print(\"Best Parameters for Gold:\",best_parameter)\n",
    "print(\"Best Estimator:\", grid.best_estimator_)\n",
    "print()\n",
    "\n",
    "\n",
    "params = {'n_neighbors':[2,3,4,5,6,7,8,9,10,11,12,1,3,14,15,16]}\n",
    "grid = GridSearchCV(estimator=knn_silver,param_grid=params,cv=4)\n",
    "grid.fit(X_train,y_train['Silver'])\n",
    "best_accuracy  = grid.best_score_\n",
    "best_parameter = grid.best_params_\n",
    "print(\"Best Accuracy for Silver:\",best_accuracy)\n",
    "print(\"Best Parameters for Silver:\",best_parameter)\n",
    "print(\"Best Estimator(Silver):\", grid.best_estimator_)\n",
    "print()\n",
    "\n",
    "\n",
    "params = {'n_neighbors':[2,3,4,5,6,7,8,9,10,11,12,1,3,14,15,16]}\n",
    "grid = GridSearchCV(estimator=knn_bronze,param_grid=params,cv=4)\n",
    "grid.fit(X_train,y_train['Bronze'])\n",
    "best_accuracy  = grid.best_score_\n",
    "best_parameter = grid.best_params_\n",
    "print(\"Best Accuracy for Bronze:\",best_accuracy)\n",
    "print(\"Best Parameters for Bronze:\",best_parameter)\n",
    "print(\"Best Estimator(Bronze):\", grid.best_estimator_)"
   ]
  },
  {
   "cell_type": "code",
   "execution_count": null,
   "metadata": {},
   "outputs": [],
   "source": [
    "data = pd.read_csv(r'C:\\Users\\USER\\Desktop\\DS_python\\CP4\\CP4\\OlympicsData\\07_tokyo2020.csv')\n",
    "data"
   ]
  },
  {
   "cell_type": "code",
   "execution_count": 13,
   "metadata": {},
   "outputs": [],
   "source": [
    "#Prediction\n",
    "data = pd.read_csv(r'C:\\Users\\USER\\Desktop\\DS_python\\CP4\\CP4\\OlympicsData\\07_tokyo2020.csv')\n",
    "\n",
    "tokyo = data[['Population','GDP','Home_Field','Athletes','Athletes_w','Sports','Sports_w','Events','Events_w']]\n",
    "\n",
    "PGold   = knn_gold.predict(tokyo)\n",
    "PGold   = PGold.astype('int64')\n",
    "PGold   = PGold.clip(min=0)\n",
    "                                      \n",
    "PSilver  = knn_silver.predict(tokyo)\n",
    "PSilver  = PSilver.astype('int64')\n",
    "PSilver  = PSilver.clip(min=0)\n",
    "                                    \n",
    "PBronze  = knn_bronze.predict(tokyo)\n",
    "PBronze  = PSilver.astype('int64')\n",
    "PBronze  = PSilver.clip(min=0)"
   ]
  },
  {
   "cell_type": "code",
   "execution_count": 14,
   "metadata": {
    "scrolled": true
   },
   "outputs": [
    {
     "data": {
      "text/html": [
       "<div>\n",
       "<style scoped>\n",
       "    .dataframe tbody tr th:only-of-type {\n",
       "        vertical-align: middle;\n",
       "    }\n",
       "\n",
       "    .dataframe tbody tr th {\n",
       "        vertical-align: top;\n",
       "    }\n",
       "\n",
       "    .dataframe thead th {\n",
       "        text-align: right;\n",
       "    }\n",
       "</style>\n",
       "<table border=\"1\" class=\"dataframe\">\n",
       "  <thead>\n",
       "    <tr style=\"text-align: right;\">\n",
       "      <th></th>\n",
       "      <th>NOC</th>\n",
       "      <th>country</th>\n",
       "      <th>PGold</th>\n",
       "      <th>PSilver</th>\n",
       "      <th>PBronze</th>\n",
       "      <th>Total</th>\n",
       "    </tr>\n",
       "  </thead>\n",
       "  <tbody>\n",
       "    <tr>\n",
       "      <th>1</th>\n",
       "      <td>CHN</td>\n",
       "      <td>China</td>\n",
       "      <td>38</td>\n",
       "      <td>31</td>\n",
       "      <td>31</td>\n",
       "      <td>100</td>\n",
       "    </tr>\n",
       "    <tr>\n",
       "      <th>2</th>\n",
       "      <td>USA</td>\n",
       "      <td>USA</td>\n",
       "      <td>38</td>\n",
       "      <td>31</td>\n",
       "      <td>31</td>\n",
       "      <td>100</td>\n",
       "    </tr>\n",
       "    <tr>\n",
       "      <th>3</th>\n",
       "      <td>KOR</td>\n",
       "      <td>South Korea</td>\n",
       "      <td>19</td>\n",
       "      <td>14</td>\n",
       "      <td>14</td>\n",
       "      <td>47</td>\n",
       "    </tr>\n",
       "    <tr>\n",
       "      <th>4</th>\n",
       "      <td>ITA</td>\n",
       "      <td>Italy</td>\n",
       "      <td>19</td>\n",
       "      <td>14</td>\n",
       "      <td>14</td>\n",
       "      <td>47</td>\n",
       "    </tr>\n",
       "    <tr>\n",
       "      <th>5</th>\n",
       "      <td>GER</td>\n",
       "      <td>Germany</td>\n",
       "      <td>17</td>\n",
       "      <td>14</td>\n",
       "      <td>14</td>\n",
       "      <td>45</td>\n",
       "    </tr>\n",
       "    <tr>\n",
       "      <th>6</th>\n",
       "      <td>GBR</td>\n",
       "      <td>UK</td>\n",
       "      <td>15</td>\n",
       "      <td>14</td>\n",
       "      <td>14</td>\n",
       "      <td>43</td>\n",
       "    </tr>\n",
       "    <tr>\n",
       "      <th>7</th>\n",
       "      <td>FRA</td>\n",
       "      <td>France</td>\n",
       "      <td>15</td>\n",
       "      <td>14</td>\n",
       "      <td>14</td>\n",
       "      <td>43</td>\n",
       "    </tr>\n",
       "    <tr>\n",
       "      <th>8</th>\n",
       "      <td>IND</td>\n",
       "      <td>India</td>\n",
       "      <td>15</td>\n",
       "      <td>13</td>\n",
       "      <td>13</td>\n",
       "      <td>41</td>\n",
       "    </tr>\n",
       "    <tr>\n",
       "      <th>9</th>\n",
       "      <td>JPN</td>\n",
       "      <td>Japan</td>\n",
       "      <td>16</td>\n",
       "      <td>10</td>\n",
       "      <td>10</td>\n",
       "      <td>36</td>\n",
       "    </tr>\n",
       "    <tr>\n",
       "      <th>10</th>\n",
       "      <td>UAE</td>\n",
       "      <td>United Arab Emirates</td>\n",
       "      <td>9</td>\n",
       "      <td>11</td>\n",
       "      <td>11</td>\n",
       "      <td>31</td>\n",
       "    </tr>\n",
       "    <tr>\n",
       "      <th>11</th>\n",
       "      <td>BRA</td>\n",
       "      <td>Brazil</td>\n",
       "      <td>11</td>\n",
       "      <td>10</td>\n",
       "      <td>10</td>\n",
       "      <td>31</td>\n",
       "    </tr>\n",
       "    <tr>\n",
       "      <th>12</th>\n",
       "      <td>RUS</td>\n",
       "      <td>Russia</td>\n",
       "      <td>11</td>\n",
       "      <td>10</td>\n",
       "      <td>10</td>\n",
       "      <td>31</td>\n",
       "    </tr>\n",
       "    <tr>\n",
       "      <th>13</th>\n",
       "      <td>POL</td>\n",
       "      <td>Poland</td>\n",
       "      <td>9</td>\n",
       "      <td>10</td>\n",
       "      <td>10</td>\n",
       "      <td>29</td>\n",
       "    </tr>\n",
       "    <tr>\n",
       "      <th>14</th>\n",
       "      <td>CAN</td>\n",
       "      <td>Canada</td>\n",
       "      <td>9</td>\n",
       "      <td>10</td>\n",
       "      <td>10</td>\n",
       "      <td>29</td>\n",
       "    </tr>\n",
       "    <tr>\n",
       "      <th>15</th>\n",
       "      <td>ARG</td>\n",
       "      <td>Argentina</td>\n",
       "      <td>10</td>\n",
       "      <td>9</td>\n",
       "      <td>9</td>\n",
       "      <td>28</td>\n",
       "    </tr>\n",
       "    <tr>\n",
       "      <th>16</th>\n",
       "      <td>AUT</td>\n",
       "      <td>Austria</td>\n",
       "      <td>10</td>\n",
       "      <td>9</td>\n",
       "      <td>9</td>\n",
       "      <td>28</td>\n",
       "    </tr>\n",
       "    <tr>\n",
       "      <th>17</th>\n",
       "      <td>MEX</td>\n",
       "      <td>Mexico</td>\n",
       "      <td>12</td>\n",
       "      <td>8</td>\n",
       "      <td>8</td>\n",
       "      <td>28</td>\n",
       "    </tr>\n",
       "    <tr>\n",
       "      <th>18</th>\n",
       "      <td>IRI</td>\n",
       "      <td>Iran</td>\n",
       "      <td>10</td>\n",
       "      <td>9</td>\n",
       "      <td>9</td>\n",
       "      <td>28</td>\n",
       "    </tr>\n",
       "    <tr>\n",
       "      <th>19</th>\n",
       "      <td>VEN</td>\n",
       "      <td>Venezuela</td>\n",
       "      <td>10</td>\n",
       "      <td>9</td>\n",
       "      <td>9</td>\n",
       "      <td>28</td>\n",
       "    </tr>\n",
       "    <tr>\n",
       "      <th>20</th>\n",
       "      <td>NGR</td>\n",
       "      <td>Nigeria</td>\n",
       "      <td>10</td>\n",
       "      <td>9</td>\n",
       "      <td>9</td>\n",
       "      <td>28</td>\n",
       "    </tr>\n",
       "  </tbody>\n",
       "</table>\n",
       "</div>"
      ],
      "text/plain": [
       "    NOC               country  PGold  PSilver  PBronze  Total\n",
       "1   CHN                 China     38       31       31    100\n",
       "2   USA                   USA     38       31       31    100\n",
       "3   KOR           South Korea     19       14       14     47\n",
       "4   ITA                 Italy     19       14       14     47\n",
       "5   GER               Germany     17       14       14     45\n",
       "6   GBR                    UK     15       14       14     43\n",
       "7   FRA                France     15       14       14     43\n",
       "8   IND                 India     15       13       13     41\n",
       "9   JPN                 Japan     16       10       10     36\n",
       "10  UAE  United Arab Emirates      9       11       11     31\n",
       "11  BRA                Brazil     11       10       10     31\n",
       "12  RUS                Russia     11       10       10     31\n",
       "13  POL                Poland      9       10       10     29\n",
       "14  CAN                Canada      9       10       10     29\n",
       "15  ARG             Argentina     10        9        9     28\n",
       "16  AUT               Austria     10        9        9     28\n",
       "17  MEX                Mexico     12        8        8     28\n",
       "18  IRI                  Iran     10        9        9     28\n",
       "19  VEN             Venezuela     10        9        9     28\n",
       "20  NGR               Nigeria     10        9        9     28"
      ]
     },
     "execution_count": 14,
     "metadata": {},
     "output_type": "execute_result"
    }
   ],
   "source": [
    "#tokyo = pd.read_csv(r\"C:\\Users\\USER\\Desktop\\DS_python\\CP4\\CP4\\07_tokyo2020.csv\")\n",
    "\n",
    "#select only wanted columns\n",
    "tokyo2020_prediction = data[['NOC','country']]\n",
    "\n",
    "\n",
    "tokyo2020_prediction['PGold']   = PGold.T\n",
    "tokyo2020_prediction['PSilver'] = PSilver.T\n",
    "tokyo2020_prediction['PBronze'] = PBronze.T\n",
    "\n",
    "tokyo2020_prediction['Total']  =  tokyo2020_prediction['PGold'] + tokyo2020_prediction['PSilver'] + tokyo2020_prediction['PBronze']\n",
    "tokyo2020_predicted = tokyo2020_prediction.sort_values(by = 'Total', ascending = False)\n",
    "\n",
    "tokyo2020_predicted.index = np.arange(1, len(tokyo2020_predicted)+1)\n",
    "tokyo2020_predicted.head(20)"
   ]
  },
  {
   "cell_type": "code",
   "execution_count": 22,
   "metadata": {},
   "outputs": [
    {
     "name": "stdout",
     "output_type": "stream",
     "text": [
      "R2(Gold)    =  0.6342031948428725\n",
      "MSE(Gold)   =  17.547619047619047\n",
      "MAE(Gold)   =  2.9285714285714284\n",
      "\n",
      "R2(Silver)  =  0.505264779906518\n",
      "MSE(Silver) =  16.38095238095238\n",
      "MAE(Silver) =  2.857142857142857\n",
      "\n",
      "R2(Bronze)  =  0.6179659266907589\n",
      "MSE(Bronze) =  15.416666666666666\n",
      "MAE(Bronze) =  2.630952380952381\n"
     ]
    }
   ],
   "source": [
    "\n",
    "print(\"R2(Gold)    = \", metrics.r2_score(y_test['Gold'],y_pred_Gold))\n",
    "print(\"MSE(Gold)   = \", metrics.mean_squared_error(y_test['Gold'],y_pred_Gold))\n",
    "print(\"MAE(Gold)   = \", metrics.mean_absolute_error(y_test['Gold'],y_pred_Gold))\n",
    "print()\n",
    "\n",
    "\n",
    "print(\"R2(Silver)  = \", metrics.r2_score(y_test['Silver'],y_pred_Silver))\n",
    "print(\"MSE(Silver) = \", metrics.mean_squared_error(y_test['Silver'],y_pred_Silver))\n",
    "print(\"MAE(Silver) = \", metrics.mean_absolute_error(y_test['Silver'],y_pred_Silver))\n",
    "print()\n",
    "\n",
    "\n",
    "print(\"R2(Bronze)  = \", metrics.r2_score(y_test['Bronze'],y_pred_Bronze))\n",
    "print(\"MSE(Bronze) = \", metrics.mean_squared_error(y_test['Bronze'],y_pred_Bronze))\n",
    "print(\"MAE(Bronze) = \", metrics.mean_absolute_error(y_test['Bronze'],y_pred_Bronze))"
   ]
  },
  {
   "cell_type": "code",
   "execution_count": 31,
   "metadata": {
    "scrolled": false
   },
   "outputs": [
    {
     "name": "stdout",
     "output_type": "stream",
     "text": [
      "KNN training score(Gold) = 0.59\n",
      "KNN test score(Gold)     = 0.63\n",
      "\n",
      "KNN training score(Silver) = 0.56\n",
      "KNN test score(Silver)     = 0.43\n",
      "\n",
      "KNN training score(Bronze) = 0.53\n",
      "KNN test score(Bronze)     = 0.63\n"
     ]
    }
   ],
   "source": [
    "# Evaluate the model's training score and test score\n",
    "print(\"KNN training score(Gold) = {:.2f}\".format(knn_gold.score(X_train, y_train['Gold'])))\n",
    "print(\"KNN test score(Gold)     = {:.2f}\".format(knn_gold.score(X_test, y_test['Gold'])))\n",
    "print()\n",
    "\n",
    "print(\"KNN training score(Silver) = {:.2f}\".format(knn_gold.score(X_train, y_train['Silver'])))\n",
    "print(\"KNN test score(Silver)     = {:.2f}\".format(knn_gold.score(X_test, y_test['Silver'])))\n",
    "print()\n",
    "\n",
    "print(\"KNN training score(Bronze) = {:.2f}\".format(knn_gold.score(X_train, y_train['Bronze'])))\n",
    "print(\"KNN test score(Bronze)     = {:.2f}\".format(knn_gold.score(X_test, y_test['Bronze'])))"
   ]
  },
  {
   "cell_type": "code",
   "execution_count": null,
   "metadata": {},
   "outputs": [],
   "source": [
    "param={\n",
    "'bootstrap': [True,False],\n",
    "    'max_depth': [1,2,3,4],\n",
    "    'max_features': [2, 3],\n",
    "    'min_samples_leaf': [3, 4, 5],\n",
    "    'min_samples_split': [8, 10, 12],\n",
    "    'n_estimators': [100, 150, 200, 250,300],\n",
    "    'criterion' : ['mse', 'mae'],\n",
    "    'max_features': ['auto', 'sqrt', 'log2']\n",
    "}\n",
    "\n",
    "grid = GridSearchCV(estimator = rf_gold, param_grid = param, \n",
    "                          cv = 3, verbose = 2)\n",
    "grid.fit(X_train,y_train['Gold'])\n",
    "\n",
    "print(\"Best Accuracy:\",grid.best_score_)\n",
    "print(\"Best Parameters:\",grid.best_params_)\n",
    "#print(\"Best Estimator:\", grid.best_estimator_)"
   ]
  },
  {
   "cell_type": "code",
   "execution_count": 39,
   "metadata": {},
   "outputs": [
    {
     "name": "stdout",
     "output_type": "stream",
     "text": [
      "Best Accuracy: 0.8968046450285907\n",
      "Best Parameters: {'max_depth': 4, 'n_estimators': 400}\n"
     ]
    }
   ],
   "source": [
    "parameters = {\n",
    "    'n_estimators': [100, 150, 200, 250, 300, 350,400,500,600,700,800,900,1000],\n",
    "    'max_depth': [1,2,3,4,5,6],\n",
    "}\n",
    "\n",
    "grid = GridSearchCV(rf_gold, parameters)\n",
    "grid.fit(X_train, y_train['Gold'])\n",
    "\n",
    "print(\"Best Accuracy:\",grid.best_score_)\n",
    "print(\"Best Parameters:\",grid.best_params_)"
   ]
  },
  {
   "cell_type": "code",
   "execution_count": 19,
   "metadata": {
    "scrolled": true
   },
   "outputs": [
    {
     "data": {
      "text/plain": [
       "<function matplotlib.pyplot.show(close=None, block=None)>"
      ]
     },
     "execution_count": 19,
     "metadata": {},
     "output_type": "execute_result"
    },
    {
     "data": {
      "image/png": "[encoded data removed]",
      "text/plain": [
       "<Figure size 1440x288 with 3 Axes>"
      ]
     },
     "metadata": {
      "needs_background": "light"
     },
     "output_type": "display_data"
    }
   ],
   "source": [
    "#Test set - Actual vs Prediction\n",
    "\n",
    "plt.figure(figsize =(20,4))\n",
    "plt.subplot(1,3,1)\n",
    "plt.scatter(y_test['Gold'],y_pred_Gold)\n",
    "plt.title(\"Actual Vs Prediction-Gold\")\n",
    "plt.xlabel(\"Actual\")\n",
    "plt.ylabel(\"Predicted\")\n",
    "\n",
    "\n",
    "plt.subplot(1,3,2)\n",
    "plt.scatter(y_test['Silver'],y_pred_Silver)\n",
    "plt.title(\"Actual Vs Prediction-Silver\")\n",
    "plt.xlabel(\"Actual\")\n",
    "plt.ylabel(\"Predicted\")\n",
    "\n",
    "\n",
    "plt.subplot(1,3,3)\n",
    "plt.scatter(y_test['Bronze'],y_pred_Bronze)\n",
    "plt.title(\"Actual Vs Prediction-Bronze\")\n",
    "plt.xlabel(\"Actual\")\n",
    "plt.ylabel(\"Predicted\")\n",
    "plt.show"
   ]
  },
  {
   "cell_type": "code",
   "execution_count": 21,
   "metadata": {},
   "outputs": [
    {
     "data": {
      "image/png": "[encoded data removed]",
      "text/plain": [
       "<Figure size 576x396 with 1 Axes>"
      ]
     },
     "metadata": {},
     "output_type": "display_data"
    },
    {
     "data": {
      "image/png": "[encoded data removed]",
      "text/plain": [
       "<Figure size 576x396 with 1 Axes>"
      ]
     },
     "metadata": {},
     "output_type": "display_data"
    },
    {
     "data": {
      "image/png": "[encoded data removed]",
      "text/plain": [
       "<Figure size 576x396 with 1 Axes>"
      ]
     },
     "metadata": {},
     "output_type": "display_data"
    },
    {
     "data": {
      "text/plain": [
       "<AxesSubplot:title={'center':'Bronze'}, xlabel='$y$', ylabel='$\\\\hat{y}$'>"
      ]
     },
     "execution_count": 21,
     "metadata": {},
     "output_type": "execute_result"
    }
   ],
   "source": [
    "from yellowbrick.regressor import PredictionError\n",
    "\n",
    "\n",
    "visualizer = PredictionError(knn_gold, title = 'Gold')\n",
    "visualizer.fit(X_train,y_train['Gold'])\n",
    "visualizer.score(X_test,y_test['Gold'])\n",
    "visualizer.poof()\n",
    "\n",
    "visualizer = PredictionError(knn_silver, title = 'Silver')\n",
    "visualizer.fit(X_train,y_train['Silver'])\n",
    "visualizer.score(X_test,y_test['Silver'])\n",
    "visualizer.poof()\n",
    "\n",
    "visualizer = PredictionError(knn_bronze, title = 'Bronze')\n",
    "visualizer.fit(X_train,y_train['Bronze'])\n",
    "visualizer.score(X_test,y_test['Bronze'])\n",
    "visualizer.poof()"
   ]
  },
  {
   "cell_type": "code",
   "execution_count": null,
   "metadata": {},
   "outputs": [],
   "source": []
  },
  {
   "cell_type": "code",
   "execution_count": null,
   "metadata": {
    "scrolled": true
   },
   "outputs": [],
   "source": [
    "#feature importance\n",
    "\n",
    "\n",
    "feature_importance = np.array(rf_gold.feature_importances_)\n",
    "feature_names = np.array(X_train.columns)\n",
    "feat_imp = pd.DataFrame({'feature_names':feature_names,'feature_importance':feature_importance})\n",
    "feat_imp_sorted = feat_imp.sort_values('feature_importance', ascending=False)\n",
    "print(feat_imp_sorted)"
   ]
  },
  {
   "cell_type": "code",
   "execution_count": null,
   "metadata": {},
   "outputs": [],
   "source": [
    "feature_importance = np.array(rf_silver.feature_importances_)\n",
    "feature_names = np.array(X_train.columns)\n",
    "feat_imp = pd.DataFrame({'feature_names':feature_names,'feature_importance':feature_importance})\n",
    "feat_imp_sorted = feat_imp.sort_values('feature_importance', ascending=False)\n",
    "print(feat_imp_sorted)"
   ]
  },
  {
   "cell_type": "code",
   "execution_count": null,
   "metadata": {},
   "outputs": [],
   "source": [
    "feature_importance = np.array(rf_bronze.feature_importances_)\n",
    "feature_names = np.array(X_train.columns)\n",
    "feat_imp = pd.DataFrame({'feature_names':feature_names,'feature_importance':feature_importance})\n",
    "feat_imp_sorted = feat_imp.sort_values('feature_importance', ascending=False)\n",
    "print(feat_imp_sorted)"
   ]
  }
 ],
 "metadata": {
  "kernelspec": {
   "display_name": "Python 3",
   "language": "python",
   "name": "python3"
  },
  "language_info": {
   "codemirror_mode": {
    "name": "ipython",
    "version": 3
   },
   "file_extension": ".py",
   "mimetype": "text/x-python",
   "name": "python",
   "nbconvert_exporter": "python",
   "pygments_lexer": "ipython3",
   "version": "3.8.5"
  }
 },
 "nbformat": 4,
 "nbformat_minor": 4
}
