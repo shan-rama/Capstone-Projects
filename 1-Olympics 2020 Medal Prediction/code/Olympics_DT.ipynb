{
 "cells": [
  {
   "cell_type": "code",
   "execution_count": 22,
   "metadata": {},
   "outputs": [],
   "source": [
    "from   sklearn.tree        import DecisionTreeRegressor\n",
    "from   sklearn.model_selection import GridSearchCV\n",
    "from   sklearn.model_selection import cross_val_score\n",
    "from   sklearn                 import metrics\n",
    "from   sklearn                 import tree\n",
    "import pandas                  as     pd\n",
    "import numpy                   as     np\n",
    "import seaborn                 as     sns\n",
    "import matplotlib.pyplot       as     plt\n",
    "import warnings\n",
    "warnings.filterwarnings(\"ignore\")"
   ]
  },
  {
   "cell_type": "code",
   "execution_count": 23,
   "metadata": {},
   "outputs": [],
   "source": [
    "olympics_all = pd.read_csv(r'C:\\Users\\USER\\Desktop\\DS_python\\CP4\\CP4\\OlympicsData\\olympics_all.csv')"
   ]
  },
  {
   "cell_type": "code",
   "execution_count": 24,
   "metadata": {},
   "outputs": [
    {
     "name": "stdout",
     "output_type": "stream",
     "text": [
      "(544, 10)\n",
      "(544, 5)\n"
     ]
    }
   ],
   "source": [
    "X=olympics_all.drop(['NOC', 'country','Gold','Silver','Bronze', 'Medals','GDP_Per_Capita'],axis=1)\n",
    "y=olympics_all[['Year','Gold','Silver','Bronze', 'Medals']]\n",
    "print(X.shape)\n",
    "print(y.shape)"
   ]
  },
  {
   "cell_type": "code",
   "execution_count": 25,
   "metadata": {},
   "outputs": [
    {
     "name": "stdout",
     "output_type": "stream",
     "text": [
      "(460, 9)\n",
      "(84, 9)\n",
      "(460, 5)\n",
      "(84, 5)\n"
     ]
    }
   ],
   "source": [
    "#Splitting data \n",
    "\n",
    "X_trn = X[X['Year']<2016]\n",
    "X_tst = X[X['Year'] == 2016]\n",
    "\n",
    "y_trn = y[y['Year'] < 2016]\n",
    "y_tst =  y[y['Year'] == 2016]\n",
    "\n",
    "X_train = X_trn.drop(['Year'],axis=1)\n",
    "X_test  = X_tst.drop(['Year'],axis=1)\n",
    "print(X_train.shape)\n",
    "print(X_test.shape)\n",
    "\n",
    "y_train = y_trn\n",
    "y_test =  y_tst\n",
    "print(y_train.shape)\n",
    "print(y_test.shape)"
   ]
  },
  {
   "cell_type": "code",
   "execution_count": 26,
   "metadata": {},
   "outputs": [
    {
     "data": {
      "text/plain": [
       "DecisionTreeRegressor(random_state=0)"
      ]
     },
     "execution_count": 26,
     "metadata": {},
     "output_type": "execute_result"
    }
   ],
   "source": [
    "# Create linear regression objects\n",
    "rf_gold   = DecisionTreeRegressor(random_state=0)\n",
    "rf_silver = DecisionTreeRegressor(random_state=0)\n",
    "rf_bronze = DecisionTreeRegressor(random_state=0)\n",
    "\n",
    "# Train the models using the training sets\n",
    "rf_gold.  fit(  X_train, y_train['Gold'])\n",
    "rf_silver.fit(X_train, y_train['Silver'])\n",
    "rf_bronze.fit(X_train, y_train['Bronze'])"
   ]
  },
  {
   "cell_type": "code",
   "execution_count": 27,
   "metadata": {},
   "outputs": [],
   "source": [
    "#Testing the model\n",
    "\n",
    "y_pred_Gold   = rf_gold.predict(X_test)\n",
    "y_pred_Gold   = y_pred_Gold.astype('int64')\n",
    "y_pred_Gold   = y_pred_Gold.clip(min=0)\n",
    "\n",
    "y_pred_Silver   = rf_silver.predict(X_test)\n",
    "y_pred_Silver   = y_pred_Silver.astype('int64')\n",
    "y_pred_Silver   = y_pred_Silver.clip(min=0)\n",
    "\n",
    "\n",
    "y_pred_Bronze   = rf_bronze.predict(X_test)\n",
    "y_pred_Bronze   = y_pred_Bronze.astype('int64')\n",
    "y_pred_Bronze   = y_pred_Bronze.clip(min=0)"
   ]
  },
  {
   "cell_type": "code",
   "execution_count": 28,
   "metadata": {
    "scrolled": false
   },
   "outputs": [
    {
     "name": "stdout",
     "output_type": "stream",
     "text": [
      "Gold Accuracy: [0.76607098 0.78017636 0.79889299 0.87585523]\n",
      "Silver Accuracy: [0.82480688 0.82727632 0.80605649 0.85457786]\n",
      "Bronze Accuracy: [0.86074327 0.76028826 0.85536489 0.90178253]\n",
      "\n",
      "Gold Accuracy  : 80.525  and Std Dev: 0.04\n",
      "Silver Accuracy: 82.818  and Std Dev: 0.02\n",
      "Bronze Accuracy: 84.454  and Std Dev: 0.05\n",
      "\n"
     ]
    }
   ],
   "source": [
    "#Applying k-fold cross_validation\n",
    "\n",
    "accuracy_gold = cross_val_score(estimator=rf_gold,X=X_train,y=y_train['Gold'],cv=4)\n",
    "accuracy_silver = cross_val_score(estimator=rf_silver,X=X_train,y=y_train['Silver'],cv=4)\n",
    "accuracy_bronze = cross_val_score(estimator=rf_bronze,X=X_train,y=y_train['Bronze'],cv=4)\n",
    "\n",
    "print(\"Gold Accuracy:\", accuracy_gold)\n",
    "print(\"Silver Accuracy:\",accuracy_silver)\n",
    "print(\"Bronze Accuracy:\",accuracy_bronze)\n",
    "\n",
    "print()\n",
    "print(\"Gold Accuracy  :\", (accuracy_gold.mean()*100).round(3), ' and Std Dev:',accuracy_gold.std().round(2))\n",
    "print(\"Silver Accuracy:\", (accuracy_silver.mean()*100).round(3), ' and Std Dev:',accuracy_silver.std().round(2))\n",
    "print(\"Bronze Accuracy:\", (accuracy_bronze.mean()*100).round(3), ' and Std Dev:',accuracy_bronze.std().round(2))\n",
    "print()"
   ]
  },
  {
   "cell_type": "code",
   "execution_count": 29,
   "metadata": {},
   "outputs": [
    {
     "name": "stdout",
     "output_type": "stream",
     "text": [
      "Best Accuracy(Gold): 0.8638224468736014\n",
      "Best Parameters(Gold): {'criterion': 'mse', 'max_depth': 6, 'max_features': 'auto', 'splitter': 'best'}\n",
      "Best Estimator(Gold): DecisionTreeRegressor(max_depth=6, max_features='auto', random_state=0)\n",
      "Best Accuracy(Silver): 0.858140575906183\n",
      "Best Parameters(Silver): {'criterion': 'mse', 'max_depth': 5, 'max_features': 'auto', 'splitter': 'best'}\n",
      "Best Estimator(Silver): DecisionTreeRegressor(max_depth=5, max_features='auto', random_state=0)\n",
      "Best Accuracy(Bronze): 0.8948054366561143\n",
      "Best Parameters(Bronze): {'criterion': 'mse', 'max_depth': 4, 'max_features': 'auto', 'splitter': 'best'}\n",
      "Best Estimator(Bronze): DecisionTreeRegressor(max_depth=4, max_features='auto', random_state=0)\n"
     ]
    }
   ],
   "source": [
    "param={'criterion' : ['mse', 'friedman_mse', 'mae', 'poisson'],\n",
    "'splitter' : ['best', 'random'],\n",
    "'max_features' : ['auto', 'sqrt', 'log2'],\n",
    "    'max_depth' : [23,4,5,6,7,8,9]}\n",
    "\n",
    "grid = GridSearchCV(estimator=rf_gold,param_grid=param,cv=3)\n",
    "grid.fit(X_train,y_train['Gold'])\n",
    "best_accuracy  = grid.best_score_\n",
    "best_parameter = grid.best_params_\n",
    "print(\"Best Accuracy(Gold):\",best_accuracy)\n",
    "print(\"Best Parameters(Gold):\",best_parameter)\n",
    "print(\"Best Estimator(Gold):\", grid.best_estimator_)\n",
    "\n",
    "\n",
    "grid = GridSearchCV(estimator=rf_silver,param_grid=param,cv=3)\n",
    "grid.fit(X_train,y_train['Silver'])\n",
    "best_accuracy  = grid.best_score_\n",
    "best_parameter = grid.best_params_\n",
    "print(\"Best Accuracy(Silver):\",best_accuracy)\n",
    "print(\"Best Parameters(Silver):\",best_parameter)\n",
    "print(\"Best Estimator(Silver):\", grid.best_estimator_)\n",
    "\n",
    "grid = GridSearchCV(estimator=rf_bronze,param_grid=param,cv=3)\n",
    "grid.fit(X_train,y_train['Bronze'])\n",
    "best_accuracy  = grid.best_score_\n",
    "best_parameter = grid.best_params_\n",
    "print(\"Best Accuracy(Bronze):\",best_accuracy)\n",
    "print(\"Best Parameters(Bronze):\",best_parameter)\n",
    "print(\"Best Estimator(Bronze):\", grid.best_estimator_)"
   ]
  },
  {
   "cell_type": "code",
   "execution_count": 30,
   "metadata": {},
   "outputs": [
    {
     "data": {
      "text/html": [
       "<div>\n",
       "<style scoped>\n",
       "    .dataframe tbody tr th:only-of-type {\n",
       "        vertical-align: middle;\n",
       "    }\n",
       "\n",
       "    .dataframe tbody tr th {\n",
       "        vertical-align: top;\n",
       "    }\n",
       "\n",
       "    .dataframe thead th {\n",
       "        text-align: right;\n",
       "    }\n",
       "</style>\n",
       "<table border=\"1\" class=\"dataframe\">\n",
       "  <thead>\n",
       "    <tr style=\"text-align: right;\">\n",
       "      <th></th>\n",
       "      <th>NOC</th>\n",
       "      <th>country</th>\n",
       "      <th>Population</th>\n",
       "      <th>GDP</th>\n",
       "      <th>Home_Field</th>\n",
       "      <th>Athletes</th>\n",
       "      <th>Athletes_w</th>\n",
       "      <th>Sports</th>\n",
       "      <th>Sports_w</th>\n",
       "      <th>Events</th>\n",
       "      <th>Events_w</th>\n",
       "    </tr>\n",
       "  </thead>\n",
       "  <tbody>\n",
       "    <tr>\n",
       "      <th>0</th>\n",
       "      <td>AFG</td>\n",
       "      <td>Afghanistan</td>\n",
       "      <td>38041754</td>\n",
       "      <td>19101353833</td>\n",
       "      <td>0</td>\n",
       "      <td>5</td>\n",
       "      <td>1</td>\n",
       "      <td>3</td>\n",
       "      <td>1</td>\n",
       "      <td>5</td>\n",
       "      <td>1</td>\n",
       "    </tr>\n",
       "    <tr>\n",
       "      <th>1</th>\n",
       "      <td>ALG</td>\n",
       "      <td>Algeria</td>\n",
       "      <td>43053054</td>\n",
       "      <td>169988236398</td>\n",
       "      <td>0</td>\n",
       "      <td>52</td>\n",
       "      <td>1</td>\n",
       "      <td>12</td>\n",
       "      <td>1</td>\n",
       "      <td>40</td>\n",
       "      <td>1</td>\n",
       "    </tr>\n",
       "    <tr>\n",
       "      <th>2</th>\n",
       "      <td>ARG</td>\n",
       "      <td>Argentina</td>\n",
       "      <td>44938712</td>\n",
       "      <td>449663446954</td>\n",
       "      <td>0</td>\n",
       "      <td>161</td>\n",
       "      <td>30</td>\n",
       "      <td>22</td>\n",
       "      <td>4</td>\n",
       "      <td>72</td>\n",
       "      <td>4</td>\n",
       "    </tr>\n",
       "    <tr>\n",
       "      <th>3</th>\n",
       "      <td>ARM</td>\n",
       "      <td>Armenia</td>\n",
       "      <td>2957731</td>\n",
       "      <td>13672802158</td>\n",
       "      <td>0</td>\n",
       "      <td>26</td>\n",
       "      <td>4</td>\n",
       "      <td>8</td>\n",
       "      <td>2</td>\n",
       "      <td>28</td>\n",
       "      <td>4</td>\n",
       "    </tr>\n",
       "    <tr>\n",
       "      <th>4</th>\n",
       "      <td>AUS</td>\n",
       "      <td>Australia</td>\n",
       "      <td>25364307</td>\n",
       "      <td>1392680589329</td>\n",
       "      <td>0</td>\n",
       "      <td>419</td>\n",
       "      <td>98</td>\n",
       "      <td>30</td>\n",
       "      <td>12</td>\n",
       "      <td>207</td>\n",
       "      <td>36</td>\n",
       "    </tr>\n",
       "    <tr>\n",
       "      <th>...</th>\n",
       "      <td>...</td>\n",
       "      <td>...</td>\n",
       "      <td>...</td>\n",
       "      <td>...</td>\n",
       "      <td>...</td>\n",
       "      <td>...</td>\n",
       "      <td>...</td>\n",
       "      <td>...</td>\n",
       "      <td>...</td>\n",
       "      <td>...</td>\n",
       "      <td>...</td>\n",
       "    </tr>\n",
       "    <tr>\n",
       "      <th>102</th>\n",
       "      <td>USA</td>\n",
       "      <td>USA</td>\n",
       "      <td>328239523</td>\n",
       "      <td>22675000000000</td>\n",
       "      <td>0</td>\n",
       "      <td>557</td>\n",
       "      <td>225</td>\n",
       "      <td>32</td>\n",
       "      <td>21</td>\n",
       "      <td>249</td>\n",
       "      <td>96</td>\n",
       "    </tr>\n",
       "    <tr>\n",
       "      <th>103</th>\n",
       "      <td>UZB</td>\n",
       "      <td>Uzbekistan</td>\n",
       "      <td>33580650</td>\n",
       "      <td>57921286440</td>\n",
       "      <td>0</td>\n",
       "      <td>59</td>\n",
       "      <td>7</td>\n",
       "      <td>14</td>\n",
       "      <td>3</td>\n",
       "      <td>62</td>\n",
       "      <td>7</td>\n",
       "    </tr>\n",
       "    <tr>\n",
       "      <th>104</th>\n",
       "      <td>VEN</td>\n",
       "      <td>Venezuela</td>\n",
       "      <td>28515829</td>\n",
       "      <td>482359318768</td>\n",
       "      <td>0</td>\n",
       "      <td>87</td>\n",
       "      <td>1</td>\n",
       "      <td>18</td>\n",
       "      <td>1</td>\n",
       "      <td>76</td>\n",
       "      <td>1</td>\n",
       "    </tr>\n",
       "    <tr>\n",
       "      <th>105</th>\n",
       "      <td>VIE</td>\n",
       "      <td>Vietnam</td>\n",
       "      <td>96462106</td>\n",
       "      <td>261921244843</td>\n",
       "      <td>0</td>\n",
       "      <td>17</td>\n",
       "      <td>1</td>\n",
       "      <td>9</td>\n",
       "      <td>1</td>\n",
       "      <td>21</td>\n",
       "      <td>1</td>\n",
       "    </tr>\n",
       "    <tr>\n",
       "      <th>106</th>\n",
       "      <td>ZIM</td>\n",
       "      <td>Zimbabwe</td>\n",
       "      <td>14645468</td>\n",
       "      <td>21440758800</td>\n",
       "      <td>0</td>\n",
       "      <td>13</td>\n",
       "      <td>1</td>\n",
       "      <td>6</td>\n",
       "      <td>1</td>\n",
       "      <td>15</td>\n",
       "      <td>4</td>\n",
       "    </tr>\n",
       "  </tbody>\n",
       "</table>\n",
       "<p>107 rows × 11 columns</p>\n",
       "</div>"
      ],
      "text/plain": [
       "     NOC      country  Population             GDP  Home_Field  Athletes  \\\n",
       "0    AFG  Afghanistan    38041754     19101353833           0         5   \n",
       "1    ALG      Algeria    43053054    169988236398           0        52   \n",
       "2    ARG    Argentina    44938712    449663446954           0       161   \n",
       "3    ARM      Armenia     2957731     13672802158           0        26   \n",
       "4    AUS    Australia    25364307   1392680589329           0       419   \n",
       "..   ...          ...         ...             ...         ...       ...   \n",
       "102  USA          USA   328239523  22675000000000           0       557   \n",
       "103  UZB   Uzbekistan    33580650     57921286440           0        59   \n",
       "104  VEN    Venezuela    28515829    482359318768           0        87   \n",
       "105  VIE      Vietnam    96462106    261921244843           0        17   \n",
       "106  ZIM     Zimbabwe    14645468     21440758800           0        13   \n",
       "\n",
       "     Athletes_w  Sports  Sports_w  Events  Events_w  \n",
       "0             1       3         1       5         1  \n",
       "1             1      12         1      40         1  \n",
       "2            30      22         4      72         4  \n",
       "3             4       8         2      28         4  \n",
       "4            98      30        12     207        36  \n",
       "..          ...     ...       ...     ...       ...  \n",
       "102         225      32        21     249        96  \n",
       "103           7      14         3      62         7  \n",
       "104           1      18         1      76         1  \n",
       "105           1       9         1      21         1  \n",
       "106           1       6         1      15         4  \n",
       "\n",
       "[107 rows x 11 columns]"
      ]
     },
     "execution_count": 30,
     "metadata": {},
     "output_type": "execute_result"
    }
   ],
   "source": [
    "data = pd.read_csv(r'C:\\Users\\USER\\Desktop\\DS_python\\CP4\\CP4\\OlympicsData\\07_tokyo2020.csv')\n",
    "data"
   ]
  },
  {
   "cell_type": "code",
   "execution_count": 31,
   "metadata": {},
   "outputs": [],
   "source": [
    "#Prediction\n",
    "data = pd.read_csv(r'C:\\Users\\USER\\Desktop\\DS_python\\CP4\\CP4\\OlympicsData\\07_tokyo2020.csv')\n",
    "\n",
    "tokyo = data[['Population','GDP','Home_Field','Athletes','Athletes_w','Sports','Sports_w','Events','Events_w']]\n",
    "\n",
    "PGold   = rf_gold.predict(tokyo)\n",
    "PGold   = PGold.astype('int64')\n",
    "PGold   = PGold.clip(min=0)\n",
    "                                      \n",
    "PSilver  = rf_silver.predict(tokyo)\n",
    "PSilver  = PSilver.astype('int64')\n",
    "PSilver  = PSilver.clip(min=0)\n",
    "                                    \n",
    "PBronze  = rf_bronze.predict(tokyo)\n",
    "PBronze  = PSilver.astype('int64')\n",
    "PBronze  = PSilver.clip(min=0)"
   ]
  },
  {
   "cell_type": "code",
   "execution_count": 32,
   "metadata": {},
   "outputs": [
    {
     "name": "stdout",
     "output_type": "stream",
     "text": [
      "R2(Gold)    =  0.8672311460250589\n",
      "MSE(Gold)   =  6.369047619047619\n",
      "MAE(Gold)   =  1.5595238095238095\n",
      "\n",
      "R2(Silver)  =  0.8734398274179465\n",
      "MSE(Silver) =  4.190476190476191\n",
      "MAE(Silver) =  1.3333333333333333\n",
      "\n",
      "R2(Bronze)  =  0.8041153477395089\n",
      "MSE(Bronze) =  7.904761904761905\n",
      "MAE(Bronze) =  1.7857142857142858\n"
     ]
    }
   ],
   "source": [
    "\n",
    "print(\"R2(Gold)    = \", metrics.r2_score(y_test['Gold'],y_pred_Gold))\n",
    "print(\"MSE(Gold)   = \", metrics.mean_squared_error(y_test['Gold'],y_pred_Gold))\n",
    "print(\"MAE(Gold)   = \", metrics.mean_absolute_error(y_test['Gold'],y_pred_Gold))\n",
    "print()\n",
    "\n",
    "\n",
    "print(\"R2(Silver)  = \", metrics.r2_score(y_test['Silver'],y_pred_Silver))\n",
    "print(\"MSE(Silver) = \", metrics.mean_squared_error(y_test['Silver'],y_pred_Silver))\n",
    "print(\"MAE(Silver) = \", metrics.mean_absolute_error(y_test['Silver'],y_pred_Silver))\n",
    "print()\n",
    "\n",
    "\n",
    "print(\"R2(Bronze)  = \", metrics.r2_score(y_test['Bronze'],y_pred_Bronze))\n",
    "print(\"MSE(Bronze) = \", metrics.mean_squared_error(y_test['Bronze'],y_pred_Bronze))\n",
    "print(\"MAE(Bronze) = \", metrics.mean_absolute_error(y_test['Bronze'],y_pred_Bronze))"
   ]
  },
  {
   "cell_type": "code",
   "execution_count": 33,
   "metadata": {
    "scrolled": true
   },
   "outputs": [
    {
     "name": "stdout",
     "output_type": "stream",
     "text": [
      "RF training score(Gold) = 1.00\n",
      "RF test score(Gold)     = 0.87\n",
      "\n",
      "RF training score(Silver) = 0.71\n",
      "RF test score(Silver)     = 0.76\n",
      "\n",
      "RF training score(Bronze) = 0.67\n",
      "RF test score(Bronze)     = 0.80\n"
     ]
    }
   ],
   "source": [
    "# Evaluate the model's training score and test score\n",
    "print(\"RF training score(Gold) = {:.2f}\".format(rf_gold.score(X_train, y_train['Gold'])))\n",
    "print(\"RF test score(Gold)     = {:.2f}\".format(rf_gold.score(X_test, y_test['Gold'])))\n",
    "print()\n",
    "\n",
    "print(\"RF training score(Silver) = {:.2f}\".format(rf_gold.score(X_train, y_train['Silver'])))\n",
    "print(\"RF test score(Silver)     = {:.2f}\".format(rf_gold.score(X_test, y_test['Silver'])))\n",
    "print()\n",
    "\n",
    "print(\"RF training score(Bronze) = {:.2f}\".format(rf_gold.score(X_train, y_train['Bronze'])))\n",
    "print(\"RF test score(Bronze)     = {:.2f}\".format(rf_gold.score(X_test, y_test['Bronze'])))"
   ]
  },
  {
   "cell_type": "code",
   "execution_count": 34,
   "metadata": {
    "scrolled": false
   },
   "outputs": [
    {
     "data": {
      "text/html": [
       "<div>\n",
       "<style scoped>\n",
       "    .dataframe tbody tr th:only-of-type {\n",
       "        vertical-align: middle;\n",
       "    }\n",
       "\n",
       "    .dataframe tbody tr th {\n",
       "        vertical-align: top;\n",
       "    }\n",
       "\n",
       "    .dataframe thead th {\n",
       "        text-align: right;\n",
       "    }\n",
       "</style>\n",
       "<table border=\"1\" class=\"dataframe\">\n",
       "  <thead>\n",
       "    <tr style=\"text-align: right;\">\n",
       "      <th></th>\n",
       "      <th>NOC</th>\n",
       "      <th>country</th>\n",
       "      <th>PGold</th>\n",
       "      <th>PSilver</th>\n",
       "      <th>PBronze</th>\n",
       "      <th>Total</th>\n",
       "    </tr>\n",
       "  </thead>\n",
       "  <tbody>\n",
       "    <tr>\n",
       "      <th>1</th>\n",
       "      <td>USA</td>\n",
       "      <td>USA</td>\n",
       "      <td>46</td>\n",
       "      <td>28</td>\n",
       "      <td>28</td>\n",
       "      <td>102</td>\n",
       "    </tr>\n",
       "    <tr>\n",
       "      <th>2</th>\n",
       "      <td>CHN</td>\n",
       "      <td>China</td>\n",
       "      <td>36</td>\n",
       "      <td>28</td>\n",
       "      <td>28</td>\n",
       "      <td>92</td>\n",
       "    </tr>\n",
       "    <tr>\n",
       "      <th>3</th>\n",
       "      <td>RUS</td>\n",
       "      <td>Russia</td>\n",
       "      <td>23</td>\n",
       "      <td>21</td>\n",
       "      <td>21</td>\n",
       "      <td>65</td>\n",
       "    </tr>\n",
       "    <tr>\n",
       "      <th>4</th>\n",
       "      <td>GBR</td>\n",
       "      <td>UK</td>\n",
       "      <td>13</td>\n",
       "      <td>18</td>\n",
       "      <td>18</td>\n",
       "      <td>49</td>\n",
       "    </tr>\n",
       "    <tr>\n",
       "      <th>5</th>\n",
       "      <td>GER</td>\n",
       "      <td>Germany</td>\n",
       "      <td>9</td>\n",
       "      <td>14</td>\n",
       "      <td>14</td>\n",
       "      <td>37</td>\n",
       "    </tr>\n",
       "    <tr>\n",
       "      <th>6</th>\n",
       "      <td>JPN</td>\n",
       "      <td>Japan</td>\n",
       "      <td>16</td>\n",
       "      <td>10</td>\n",
       "      <td>10</td>\n",
       "      <td>36</td>\n",
       "    </tr>\n",
       "    <tr>\n",
       "      <th>7</th>\n",
       "      <td>FRA</td>\n",
       "      <td>France</td>\n",
       "      <td>7</td>\n",
       "      <td>14</td>\n",
       "      <td>14</td>\n",
       "      <td>35</td>\n",
       "    </tr>\n",
       "    <tr>\n",
       "      <th>8</th>\n",
       "      <td>AUS</td>\n",
       "      <td>Australia</td>\n",
       "      <td>10</td>\n",
       "      <td>10</td>\n",
       "      <td>10</td>\n",
       "      <td>30</td>\n",
       "    </tr>\n",
       "    <tr>\n",
       "      <th>9</th>\n",
       "      <td>ITA</td>\n",
       "      <td>Italy</td>\n",
       "      <td>8</td>\n",
       "      <td>10</td>\n",
       "      <td>10</td>\n",
       "      <td>28</td>\n",
       "    </tr>\n",
       "    <tr>\n",
       "      <th>10</th>\n",
       "      <td>ESP</td>\n",
       "      <td>Spain</td>\n",
       "      <td>5</td>\n",
       "      <td>10</td>\n",
       "      <td>10</td>\n",
       "      <td>25</td>\n",
       "    </tr>\n",
       "    <tr>\n",
       "      <th>11</th>\n",
       "      <td>KOR</td>\n",
       "      <td>South Korea</td>\n",
       "      <td>8</td>\n",
       "      <td>8</td>\n",
       "      <td>8</td>\n",
       "      <td>24</td>\n",
       "    </tr>\n",
       "    <tr>\n",
       "      <th>12</th>\n",
       "      <td>CAN</td>\n",
       "      <td>Canada</td>\n",
       "      <td>5</td>\n",
       "      <td>9</td>\n",
       "      <td>9</td>\n",
       "      <td>23</td>\n",
       "    </tr>\n",
       "    <tr>\n",
       "      <th>13</th>\n",
       "      <td>NED</td>\n",
       "      <td>Netherlands</td>\n",
       "      <td>7</td>\n",
       "      <td>5</td>\n",
       "      <td>5</td>\n",
       "      <td>17</td>\n",
       "    </tr>\n",
       "    <tr>\n",
       "      <th>14</th>\n",
       "      <td>HUN</td>\n",
       "      <td>Hungary</td>\n",
       "      <td>4</td>\n",
       "      <td>6</td>\n",
       "      <td>6</td>\n",
       "      <td>16</td>\n",
       "    </tr>\n",
       "    <tr>\n",
       "      <th>15</th>\n",
       "      <td>DEN</td>\n",
       "      <td>Denmark</td>\n",
       "      <td>4</td>\n",
       "      <td>6</td>\n",
       "      <td>6</td>\n",
       "      <td>16</td>\n",
       "    </tr>\n",
       "    <tr>\n",
       "      <th>16</th>\n",
       "      <td>JAM</td>\n",
       "      <td>Jamaica</td>\n",
       "      <td>4</td>\n",
       "      <td>6</td>\n",
       "      <td>6</td>\n",
       "      <td>16</td>\n",
       "    </tr>\n",
       "    <tr>\n",
       "      <th>17</th>\n",
       "      <td>AZE</td>\n",
       "      <td>Azerbaijan</td>\n",
       "      <td>4</td>\n",
       "      <td>6</td>\n",
       "      <td>6</td>\n",
       "      <td>16</td>\n",
       "    </tr>\n",
       "    <tr>\n",
       "      <th>18</th>\n",
       "      <td>UKR</td>\n",
       "      <td>Ukraine</td>\n",
       "      <td>6</td>\n",
       "      <td>5</td>\n",
       "      <td>5</td>\n",
       "      <td>16</td>\n",
       "    </tr>\n",
       "    <tr>\n",
       "      <th>19</th>\n",
       "      <td>BRA</td>\n",
       "      <td>Brazil</td>\n",
       "      <td>5</td>\n",
       "      <td>4</td>\n",
       "      <td>4</td>\n",
       "      <td>13</td>\n",
       "    </tr>\n",
       "    <tr>\n",
       "      <th>20</th>\n",
       "      <td>BLR</td>\n",
       "      <td>Belarus</td>\n",
       "      <td>2</td>\n",
       "      <td>5</td>\n",
       "      <td>5</td>\n",
       "      <td>12</td>\n",
       "    </tr>\n",
       "  </tbody>\n",
       "</table>\n",
       "</div>"
      ],
      "text/plain": [
       "    NOC      country  PGold  PSilver  PBronze  Total\n",
       "1   USA          USA     46       28       28    102\n",
       "2   CHN        China     36       28       28     92\n",
       "3   RUS       Russia     23       21       21     65\n",
       "4   GBR           UK     13       18       18     49\n",
       "5   GER      Germany      9       14       14     37\n",
       "6   JPN        Japan     16       10       10     36\n",
       "7   FRA       France      7       14       14     35\n",
       "8   AUS    Australia     10       10       10     30\n",
       "9   ITA        Italy      8       10       10     28\n",
       "10  ESP        Spain      5       10       10     25\n",
       "11  KOR  South Korea      8        8        8     24\n",
       "12  CAN       Canada      5        9        9     23\n",
       "13  NED  Netherlands      7        5        5     17\n",
       "14  HUN      Hungary      4        6        6     16\n",
       "15  DEN      Denmark      4        6        6     16\n",
       "16  JAM      Jamaica      4        6        6     16\n",
       "17  AZE   Azerbaijan      4        6        6     16\n",
       "18  UKR      Ukraine      6        5        5     16\n",
       "19  BRA       Brazil      5        4        4     13\n",
       "20  BLR      Belarus      2        5        5     12"
      ]
     },
     "execution_count": 34,
     "metadata": {},
     "output_type": "execute_result"
    }
   ],
   "source": [
    "#tokyo = pd.read_csv(r\"C:\\Users\\USER\\Desktop\\DS_python\\CP4\\CP4\\07_tokyo2020.csv\")\n",
    "\n",
    "#select only wanted columns\n",
    "tokyo2020_prediction = data[['NOC','country']]\n",
    "\n",
    "\n",
    "tokyo2020_prediction['PGold']   = PGold.T\n",
    "tokyo2020_prediction['PSilver'] = PSilver.T\n",
    "tokyo2020_prediction['PBronze'] = PBronze.T\n",
    "\n",
    "tokyo2020_prediction['Total']  =  tokyo2020_prediction['PGold'] + tokyo2020_prediction['PSilver'] + tokyo2020_prediction['PBronze']\n",
    "tokyo2020_predicted = tokyo2020_prediction.sort_values(by = 'Total', ascending = False)\n",
    "\n",
    "tokyo2020_predicted.index = np.arange(1, len(tokyo2020_predicted)+1)\n",
    "tokyo2020_predicted.head(20)"
   ]
  },
  {
   "cell_type": "code",
   "execution_count": 35,
   "metadata": {},
   "outputs": [
    {
     "data": {
      "text/plain": [
       "<function matplotlib.pyplot.show(close=None, block=None)>"
      ]
     },
     "execution_count": 35,
     "metadata": {},
     "output_type": "execute_result"
    },
    {
     "data": {
      "image/png": "[encoded data removed]",
      "text/plain": [
       "<Figure size 1440x288 with 3 Axes>"
      ]
     },
     "metadata": {},
     "output_type": "display_data"
    }
   ],
   "source": [
    "#Test set - Actual vs Prediction\n",
    "\n",
    "plt.figure(figsize =(20,4))\n",
    "plt.subplot(1,3,1)\n",
    "plt.scatter(y_test['Gold'],y_pred_Gold)\n",
    "plt.title(\"Actual Vs Prediction-Gold\")\n",
    "plt.xlabel(\"Actual\")\n",
    "plt.ylabel(\"Predicted\")\n",
    "\n",
    "\n",
    "plt.subplot(1,3,2)\n",
    "plt.scatter(y_test['Silver'],y_pred_Silver)\n",
    "plt.title(\"Actual Vs Prediction-Silver\")\n",
    "plt.xlabel(\"Actual\")\n",
    "plt.ylabel(\"Predicted\")\n",
    "\n",
    "\n",
    "plt.subplot(1,3,3)\n",
    "plt.scatter(y_test['Bronze'],y_pred_Bronze)\n",
    "plt.title(\"Actual Vs Prediction-Bronze\")\n",
    "plt.xlabel(\"Actual\")\n",
    "plt.ylabel(\"Predicted\")\n",
    "plt.show"
   ]
  },
  {
   "cell_type": "code",
   "execution_count": 36,
   "metadata": {},
   "outputs": [
    {
     "data": {
      "image/png": "[encoded data removed]",
      "text/plain": [
       "<Figure size 576x396 with 1 Axes>"
      ]
     },
     "metadata": {},
     "output_type": "display_data"
    },
    {
     "data": {
      "image/png": "[encoded data removed]",
      "text/plain": [
       "<Figure size 576x396 with 1 Axes>"
      ]
     },
     "metadata": {},
     "output_type": "display_data"
    },
    {
     "data": {
      "image/png": "[encoded data removed]",
      "text/plain": [
       "<Figure size 576x396 with 1 Axes>"
      ]
     },
     "metadata": {},
     "output_type": "display_data"
    },
    {
     "data": {
      "text/plain": [
       "<AxesSubplot:title={'center':'Bronze'}, xlabel='$y$', ylabel='$\\\\hat{y}$'>"
      ]
     },
     "execution_count": 36,
     "metadata": {},
     "output_type": "execute_result"
    }
   ],
   "source": [
    "from yellowbrick.regressor import PredictionError\n",
    "\n",
    "\n",
    "visualizer = PredictionError(rf_gold, title = 'Gold')\n",
    "visualizer.fit(X_train,y_train['Gold'])\n",
    "visualizer.score(X_test,y_test['Gold'])\n",
    "visualizer.poof()\n",
    "\n",
    "visualizer = PredictionError(rf_silver, title = 'Silver')\n",
    "visualizer.fit(X_train,y_train['Silver'])\n",
    "visualizer.score(X_test,y_test['Silver'])\n",
    "visualizer.poof()\n",
    "\n",
    "visualizer = PredictionError(rf_bronze, title = 'Bronze')\n",
    "visualizer.fit(X_train,y_train['Bronze'])\n",
    "visualizer.score(X_test,y_test['Bronze'])\n",
    "visualizer.poof()"
   ]
  },
  {
   "cell_type": "code",
   "execution_count": 37,
   "metadata": {
    "scrolled": true
   },
   "outputs": [
    {
     "name": "stdout",
     "output_type": "stream",
     "text": [
      "  feature_names  feature_importance\n",
      "8      Events_w            0.932332\n",
      "0    Population            0.026777\n",
      "1           Gdp            0.017609\n",
      "6      Sports_w            0.005810\n",
      "5        Sports            0.004354\n",
      "3      Athletes            0.004306\n",
      "2    Home_Field            0.003346\n",
      "4    Athletes_w            0.003269\n",
      "7        Events            0.002196\n"
     ]
    }
   ],
   "source": [
    "#feature importance\n",
    "\n",
    "\n",
    "feature_importance = np.array(rf_gold.feature_importances_)\n",
    "feature_names = np.array(X_train.columns)\n",
    "feat_imp = pd.DataFrame({'feature_names':feature_names,'feature_importance':feature_importance})\n",
    "feat_imp_sorted = feat_imp.sort_values('feature_importance', ascending=False)\n",
    "print(feat_imp_sorted)"
   ]
  },
  {
   "cell_type": "code",
   "execution_count": 38,
   "metadata": {},
   "outputs": [
    {
     "name": "stdout",
     "output_type": "stream",
     "text": [
      "  feature_names  feature_importance\n",
      "8      Events_w            0.939476\n",
      "0    Population            0.013488\n",
      "3      Athletes            0.012170\n",
      "1           Gdp            0.009788\n",
      "4    Athletes_w            0.006802\n",
      "7        Events            0.006363\n",
      "5        Sports            0.006330\n",
      "6      Sports_w            0.004173\n",
      "2    Home_Field            0.001408\n"
     ]
    }
   ],
   "source": [
    "feature_importance = np.array(rf_silver.feature_importances_)\n",
    "feature_names = np.array(X_train.columns)\n",
    "feat_imp = pd.DataFrame({'feature_names':feature_names,'feature_importance':feature_importance})\n",
    "feat_imp_sorted = feat_imp.sort_values('feature_importance', ascending=False)\n",
    "print(feat_imp_sorted)"
   ]
  },
  {
   "cell_type": "code",
   "execution_count": 39,
   "metadata": {},
   "outputs": [
    {
     "name": "stdout",
     "output_type": "stream",
     "text": [
      "  feature_names  feature_importance\n",
      "8      Events_w            0.933934\n",
      "4    Athletes_w            0.016244\n",
      "1           Gdp            0.013030\n",
      "3      Athletes            0.010766\n",
      "0    Population            0.009544\n",
      "7        Events            0.009064\n",
      "5        Sports            0.003119\n",
      "2    Home_Field            0.002923\n",
      "6      Sports_w            0.001375\n"
     ]
    }
   ],
   "source": [
    "feature_importance = np.array(rf_bronze.feature_importances_)\n",
    "feature_names = np.array(X_train.columns)\n",
    "feat_imp = pd.DataFrame({'feature_names':feature_names,'feature_importance':feature_importance})\n",
    "feat_imp_sorted = feat_imp.sort_values('feature_importance', ascending=False)\n",
    "print(feat_imp_sorted)"
   ]
  }
 ],
 "metadata": {
  "kernelspec": {
   "display_name": "Python 3",
   "language": "python",
   "name": "python3"
  },
  "language_info": {
   "codemirror_mode": {
    "name": "ipython",
    "version": 3
   },
   "file_extension": ".py",
   "mimetype": "text/x-python",
   "name": "python",
   "nbconvert_exporter": "python",
   "pygments_lexer": "ipython3",
   "version": "3.8.5"
  }
 },
 "nbformat": 4,
 "nbformat_minor": 4
}
